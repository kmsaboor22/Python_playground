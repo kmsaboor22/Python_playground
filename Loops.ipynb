{
 "cells": [
  {
   "cell_type": "code",
   "execution_count": 1,
   "metadata": {
    "collapsed": true
   },
   "outputs": [],
   "source": [
    "Foods = ['Bacon', 'Eggs', 'Tuna', 'Lemon Cake', 'Apples', 'Grapes']"
   ]
  },
  {
   "cell_type": "code",
   "execution_count": 2,
   "metadata": {},
   "outputs": [
    {
     "name": "stdout",
     "output_type": "stream",
     "text": [
      "Eggs\n"
     ]
    }
   ],
   "source": [
    "print(Foods[1])"
   ]
  },
  {
   "cell_type": "code",
   "execution_count": 14,
   "metadata": {},
   "outputs": [
    {
     "name": "stdout",
     "output_type": "stream",
     "text": [
      "Bacon, The length of Bacon is 5 characters\n",
      "Eggs, The length of Eggs is 4 characters\n",
      "Tuna, The length of Tuna is 4 characters\n",
      "Lemon Cake, The length of Lemon Cake is 10 characters\n"
     ]
    }
   ],
   "source": [
    "# for each item in foods\n",
    "for i in Foods:\n",
    "# print every item in the list and the length    \n",
    "    print(i+',','The length of',i, 'is',len(i),'characters')"
   ]
  },
  {
   "cell_type": "code",
   "execution_count": 15,
   "metadata": {},
   "outputs": [
    {
     "name": "stdout",
     "output_type": "stream",
     "text": [
      "Bacon, The length of Bacon is 5 characters\n",
      "Eggs, The length of Eggs is 4 characters\n",
      "Tuna, The length of Tuna is 4 characters\n"
     ]
    }
   ],
   "source": [
    "#to loop through part/slice of the \n",
    "#List/array you would do the following\n",
    "\n",
    "for i in Foods[:3]:\n",
    "    print(i+',','The length of',i, 'is',len(i),'characters')"
   ]
  },
  {
   "cell_type": "code",
   "execution_count": null,
   "metadata": {
    "collapsed": true
   },
   "outputs": [],
   "source": []
  }
 ],
 "metadata": {
  "kernelspec": {
   "display_name": "Python 3",
   "language": "python",
   "name": "python3"
  },
  "language_info": {
   "codemirror_mode": {
    "name": "ipython",
    "version": 3
   },
   "file_extension": ".py",
   "mimetype": "text/x-python",
   "name": "python",
   "nbconvert_exporter": "python",
   "pygments_lexer": "ipython3",
   "version": "3.6.1"
  }
 },
 "nbformat": 4,
 "nbformat_minor": 2
}
